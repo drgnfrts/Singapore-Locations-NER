{
 "cells": [
  {
   "cell_type": "code",
   "execution_count": 1,
   "metadata": {},
   "outputs": [],
   "source": [
    "import requests"
   ]
  },
  {
   "cell_type": "code",
   "execution_count": 4,
   "metadata": {},
   "outputs": [],
   "source": [
    "def getcoordinates():\n",
    "    req = requests.get('https://developers.onemap.sg/commonapi/search?searchVal=401%20Choa%20Chu%20Kang&returnGeom=Y&getAddrDetails=Y')\n",
    "    resultsdict = eval(req.text)\n",
    "    if len(resultsdict['results'])>0:\n",
    "        return resultsdict['results'][0]['LATITUDE'], resultsdict['results'][0]['LONGITUDE']\n",
    "    else:\n",
    "        pass"
   ]
  },
  {
   "cell_type": "code",
   "execution_count": 5,
   "metadata": {},
   "outputs": [
    {
     "data": {
      "text/plain": [
       "('1.37969264223731', '103.739760661718')"
      ]
     },
     "execution_count": 5,
     "metadata": {},
     "output_type": "execute_result"
    }
   ],
   "source": [
    "getcoordinates()"
   ]
  }
 ],
 "metadata": {
  "interpreter": {
   "hash": "143c4197a1cacaca3a74be7e5010b449c9ab0da0453adabaddb398e9405b6f79"
  },
  "kernelspec": {
   "display_name": "Python 3.8.9 ('venv': venv)",
   "language": "python",
   "name": "python3"
  },
  "language_info": {
   "codemirror_mode": {
    "name": "ipython",
    "version": 3
   },
   "file_extension": ".py",
   "mimetype": "text/x-python",
   "name": "python",
   "nbconvert_exporter": "python",
   "pygments_lexer": "ipython3",
   "version": "3.8.9"
  },
  "orig_nbformat": 4
 },
 "nbformat": 4,
 "nbformat_minor": 2
}
