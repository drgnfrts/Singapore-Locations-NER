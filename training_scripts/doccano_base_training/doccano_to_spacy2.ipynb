{
 "cells": [
  {
   "cell_type": "markdown",
   "metadata": {},
   "source": [
    "# Doccano JSONL to spaCy v2.0 JSON format\n",
    "\n",
    "Data exported out from Doccano is usually in a JSONL format and references the entities in text differently from the spaCy v2.0 method. So far I haven't found any method to directly converted Doccano-formatted data to a format ready for use for spaCy v3.0, so converting to v2.0 as an intermediate step will have to do for now.\n",
    "\n",
    "Import JSON and Random"
   ]
  },
  {
   "cell_type": "code",
   "execution_count": 1,
   "metadata": {},
   "outputs": [],
   "source": [
    "import json\n",
    "import random"
   ]
  },
  {
   "cell_type": "markdown",
   "metadata": {},
   "source": [
    "Use json.loads() to handle the JSONL file. Then, for each line, reorganise data and labels into the spaCy *[text, {\"entities\":label}]* format."
   ]
  },
  {
   "cell_type": "code",
   "execution_count": 28,
   "metadata": {},
   "outputs": [],
   "source": [
    "results = []\n",
    "\n",
    "with open(\"../../data/doccano_annotated_data/edited_annotations.jsonl\") as annotations_in_jsonl:\n",
    "   for line in annotations_in_jsonl:\n",
    "      j_line=json.loads(line)\n",
    "      # Reorganise data to spaCy's [text, {\"entities\":label}] format\n",
    "      line_results = [j_line['data'], {\"entities\":j_line['label']}]\n",
    "      results.append(line_results)"
   ]
  },
  {
   "cell_type": "code",
   "execution_count": 29,
   "metadata": {},
   "outputs": [],
   "source": [
    "with open(\"../../data/doccano_annotated_data/v3.1_add_data.jsonl\") as annotations_in_jsonl2:\n",
    "   for line in annotations_in_jsonl2:\n",
    "      j_line=json.loads(line)\n",
    "      # Reorganise data to spaCy's [text, {\"entities\":label}] format\n",
    "      line_results = [j_line['text'], {\"entities\":j_line['label']}]\n",
    "      results.append(line_results)"
   ]
  },
  {
   "cell_type": "code",
   "execution_count": 43,
   "metadata": {},
   "outputs": [
    {
     "name": "stdout",
     "output_type": "stream",
     "text": [
      "2616\n",
      "[\"The three landlords currently each have a building seeking the certifications - Keppel REIT's Keppel Bay Tower, a 386,000 sq ft office building at Harbourfront; Shaw Towers Realty's Shaw Tower, a 33-storey building on Beach Road currently undergoing redevelopment that is managed by Lendlease, as well as PAG's 400,000 sq ft StarHub Green building in Paya Lebar.\", {'entities': [[80, 91, 'ORG'], [94, 110, 'LOC'], [147, 159, 'LOC'], [161, 179, 'ORG'], [182, 192, 'LOC'], [218, 228, 'LOC'], [283, 292, 'ORG'], [305, 308, 'ORG'], [325, 338, 'LOC'], [351, 361, 'LOC']]}]\n"
     ]
    }
   ],
   "source": [
    "print(len(results))\n",
    "print(results[2615])"
   ]
  },
  {
   "cell_type": "code",
   "execution_count": 24,
   "metadata": {},
   "outputs": [
    {
     "name": "stdout",
     "output_type": "stream",
     "text": [
      "['A customer scans a QR code using the TraceTogether contact-tracing phone app before entering the United Overseas Bank Ltd. (UOB) main branch at UOB Plaza in Singapore, on Thursday, March 4, 2021.', {'entities': [[97, 121, 'ORG'], [124, 127, 'ORG'], [144, 153, 'LOC'], [157, 166, 'LOC']]}]\n"
     ]
    }
   ],
   "source": [
    "print(results[2599])"
   ]
  },
  {
   "cell_type": "markdown",
   "metadata": {},
   "source": [
    "Shuffle the datasets, then split to training and validation data in an 80:20 ratio"
   ]
  },
  {
   "cell_type": "code",
   "execution_count": 53,
   "metadata": {},
   "outputs": [],
   "source": [
    "random.shuffle(results)"
   ]
  },
  {
   "cell_type": "code",
   "execution_count": 4,
   "metadata": {},
   "outputs": [],
   "source": [
    "# fulltrain_data_end_index = int(len(results) - (len(results) / 6))\n",
    "# golden_data_start_index = int(len(results) - (len(results) / 6) + 1)\n",
    "# final_index = int(len(results) - 1)"
   ]
  },
  {
   "cell_type": "code",
   "execution_count": 54,
   "metadata": {},
   "outputs": [],
   "source": [
    "trainset_end = 1744\n",
    "valset_start = 1744\n",
    "valset_end = 2180\n",
    "goldset_start = 2180\n",
    "goldset_end = 2616"
   ]
  },
  {
   "cell_type": "code",
   "execution_count": 55,
   "metadata": {},
   "outputs": [],
   "source": [
    "training_set = results[0:trainset_end]\n",
    "validation_set = results [valset_start:valset_end]\n",
    "evaluation_set = results[goldset_start:goldset_end]"
   ]
  },
  {
   "cell_type": "code",
   "execution_count": 56,
   "metadata": {},
   "outputs": [
    {
     "name": "stdout",
     "output_type": "stream",
     "text": [
      "1744 436 436\n",
      "['Currently closed for renovation works, the S$90 million revamp of the Singapore Arts Museum (SAM) will be completed in 2026.', {'entities': [[70, 91, 'LOC'], [93, 96, 'LOC']]}]\n"
     ]
    }
   ],
   "source": [
    "print(len(training_set), len(validation_set), len(evaluation_set))\n",
    "print(evaluation_set[435])"
   ]
  },
  {
   "cell_type": "markdown",
   "metadata": {},
   "source": [
    "Save to JSON file for further conversion to spaCy v3.0 format"
   ]
  },
  {
   "cell_type": "code",
   "execution_count": 57,
   "metadata": {},
   "outputs": [],
   "source": [
    "save_data_path = \"../../data/training_datasets/\"\n",
    "\n",
    "def save_data(file, data):\n",
    "    with open (save_data_path + file, \"w\", encoding=\"utf-8\") as f:\n",
    "        json.dump(data, f, indent=4)\n",
    "\n",
    "save_data(\"full_train_data_v3.1.json\", results)\n",
    "save_data(\"training_set_v3.1.json\", training_set)\n",
    "save_data(\"validation_set_v3.1.json\", validation_set)\n",
    "save_data(\"golden_set.json\", evaluation_set)"
   ]
  }
 ],
 "metadata": {
  "interpreter": {
   "hash": "99dd627970ccf7a76dbbe014bbf707e817867099f13e2ab9e56b37d735cfd9d3"
  },
  "kernelspec": {
   "display_name": "Python 3.8.9 ('venv': venv)",
   "language": "python",
   "name": "python3"
  },
  "language_info": {
   "codemirror_mode": {
    "name": "ipython",
    "version": 3
   },
   "file_extension": ".py",
   "mimetype": "text/x-python",
   "name": "python",
   "nbconvert_exporter": "python",
   "pygments_lexer": "ipython3",
   "version": "3.8.9"
  },
  "orig_nbformat": 4
 },
 "nbformat": 4,
 "nbformat_minor": 2
}
