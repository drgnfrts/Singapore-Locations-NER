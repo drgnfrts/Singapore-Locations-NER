{
 "cells": [
  {
   "cell_type": "markdown",
   "metadata": {},
   "source": [
    "# Doccano JSONL to spaCy v2.0 JSON format\n",
    "\n",
    "Data exported out from Doccano is usually in a JSONL format and references the entities in text differently from the spaCy v2.0 method. So far I haven't found any method to directly converted Doccano-formatted data to a format ready for use for spaCy v3.0, so converting to v2.0 as an intermediate step will have to do for now.\n",
    "\n",
    "Import JSON and Random"
   ]
  },
  {
   "cell_type": "code",
   "execution_count": 1,
   "metadata": {},
   "outputs": [],
   "source": [
    "import json\n",
    "import random"
   ]
  },
  {
   "cell_type": "markdown",
   "metadata": {},
   "source": [
    "Use json.loads() to handle the JSONL file. Then, for each line, reorganise data and labels into the spaCy *[text, {\"entities\":label}]* format."
   ]
  },
  {
   "cell_type": "code",
   "execution_count": 2,
   "metadata": {},
   "outputs": [],
   "source": [
    "results = []\n",
    "\n",
    "with open(\"../../data/doccano_annotated_data/edited_annotations.jsonl\") as annotations_in_jsonl:\n",
    "   for line in annotations_in_jsonl:\n",
    "      j_line=json.loads(line)\n",
    "      # Reorganise data to spaCy's [text, {\"entities\":label}] format\n",
    "      line_results = [j_line['data'], {\"entities\":j_line['label']}]\n",
    "      results.append(line_results)"
   ]
  },
  {
   "cell_type": "markdown",
   "metadata": {},
   "source": [
    "Shuffle the datasets, then split to training and validation data in an 80:20 ratio"
   ]
  },
  {
   "cell_type": "code",
   "execution_count": 3,
   "metadata": {},
   "outputs": [],
   "source": [
    "random.shuffle(results)"
   ]
  },
  {
   "cell_type": "code",
   "execution_count": 4,
   "metadata": {},
   "outputs": [],
   "source": [
    "train_data_end_index = int(len(results) - (len(results) / 5))\n",
    "validation_data_start_index = int(len(results) - (len(results) / 5) + 1)\n",
    "final_index = int(len(results) - 1)"
   ]
  },
  {
   "cell_type": "code",
   "execution_count": 5,
   "metadata": {},
   "outputs": [],
   "source": [
    "training_set = results[0:train_data_end_index]\n",
    "validation_set = results[validation_data_start_index:final_index]"
   ]
  },
  {
   "cell_type": "code",
   "execution_count": 8,
   "metadata": {},
   "outputs": [
    {
     "name": "stdout",
     "output_type": "stream",
     "text": [
      "1280 318\n"
     ]
    }
   ],
   "source": [
    "print(len(training_set), len(validation_set))"
   ]
  },
  {
   "cell_type": "markdown",
   "metadata": {},
   "source": [
    "Save to JSON file for further conversion to spaCy v3.0 format"
   ]
  },
  {
   "cell_type": "code",
   "execution_count": 6,
   "metadata": {},
   "outputs": [],
   "source": [
    "save_data_path = \"../../data/training_datasets/\"\n",
    "\n",
    "def save_data(file, data):\n",
    "    with open (save_data_path + file, \"w\", encoding=\"utf-8\") as f:\n",
    "        json.dump(data, f, indent=4)\n",
    "\n",
    "save_data(\"full_train_data_doccano.json\", results)\n",
    "save_data(\"training_set_doccano.json\", training_set)\n",
    "save_data(\"validation_set_doccano.json\", validation_set)"
   ]
  }
 ],
 "metadata": {
  "interpreter": {
   "hash": "26dff31311a0bce229de49839ffd0c16c131302b688e22273eb8197e58305d33"
  },
  "kernelspec": {
   "display_name": "Python 3.8.12 ('spacyenv')",
   "language": "python",
   "name": "python3"
  },
  "language_info": {
   "codemirror_mode": {
    "name": "ipython",
    "version": 3
   },
   "file_extension": ".py",
   "mimetype": "text/x-python",
   "name": "python",
   "nbconvert_exporter": "python",
   "pygments_lexer": "ipython3",
   "version": "3.8.9"
  },
  "orig_nbformat": 4
 },
 "nbformat": 4,
 "nbformat_minor": 2
}
