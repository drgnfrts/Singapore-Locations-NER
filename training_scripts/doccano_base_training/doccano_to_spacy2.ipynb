{
 "cells": [
  {
   "cell_type": "markdown",
   "metadata": {},
   "source": [
    "# Doccano JSONL to spaCy v2.0 JSON format\n",
    "\n",
    "Data exported out from Doccano is usually in a JSONL format and references the entities in text differently from the spaCy v2.0 method. So far I haven't found any method to directly converted Doccano-formatted data to a format ready for use for spaCy v3.0, so converting to v2.0 as an intermediate step will have to do for now.\n",
    "\n",
    "**IMPORTANT!!!: DO NOT EVER WRITE TO evaluation_for_v3.1+.json - OVERWRITING THE EVALUATION SET WILL LIKELY BRING IN DATASETS MODEL V3.1 HAS SEEN BEFORE, RENDERING THE EVALUATION SET BIASED TOWARDS MODEL v3.1 AND USELESS FOR EVALUATION OF MODEL V3.1**\n",
    "\n",
    "Import JSON and Random"
   ]
  },
  {
   "cell_type": "code",
   "execution_count": null,
   "metadata": {},
   "outputs": [],
   "source": [
    "import json\n",
    "import random"
   ]
  },
  {
   "cell_type": "markdown",
   "metadata": {},
   "source": [
    "Use json.loads() to handle the JSONL file. Then, for each line, reorganise data and labels into the spaCy *[text, {\"entities\":label}]* format. There are two sets of code with the same functionality"
   ]
  },
  {
   "cell_type": "code",
   "execution_count": null,
   "metadata": {},
   "outputs": [],
   "source": [
    "results = []"
   ]
  },
  {
   "cell_type": "code",
   "execution_count": null,
   "metadata": {},
   "outputs": [],
   "source": [
    "list_of_doccano_annotation_files = [\"../../data/doccano_annotated_data/edited_annotations.jsonl\", \"../../data/doccano_annotated_data/v3.1_add_data.jsonl\"\n",
    "]"
   ]
  },
  {
   "cell_type": "code",
   "execution_count": null,
   "metadata": {},
   "outputs": [],
   "source": [
    "for doccano_file in list_of_doccano_annotation_files:\n",
    "    with open(doccano_file) as jsonl_annotations:\n",
    "        for line in jsonl_annotations:\n",
    "            annotation_line = json.loads(line)\n",
    "            if \"data\" in annotation_line:\n",
    "                line_results = [annotation_line['data'], {\"entities\":annotation_line['label']}]\n",
    "            elif \"text\" in annotation_line:\n",
    "                line_results = [annotation_line['text'], {\"entities\":annotation_line['label']}]\n",
    "            results.append(line_results)\n"
   ]
  },
  {
   "cell_type": "code",
   "execution_count": null,
   "metadata": {},
   "outputs": [],
   "source": [
    "print(len(results) - 1, results[(len(results) - 1)])"
   ]
  },
  {
   "cell_type": "code",
   "execution_count": null,
   "metadata": {},
   "outputs": [],
   "source": [
    "# DEPRACATED: Conversion of Doccano-format annotations to spaCy2-format updated above to enable multiple files\n",
    "\n",
    "# with open(\"../../data/doccano_annotated_data/edited_annotations.jsonl\") as annotations_in_jsonl:\n",
    "#    for line in annotations_in_jsonl:\n",
    "#       j_line=json.loads(line)\n",
    "#       # Reorganise data to spaCy's [text, {\"entities\":label}] format\n",
    "#       line_results = [j_line['data'], {\"entities\":j_line['label']}]\n",
    "#       results.append(line_results)"
   ]
  },
  {
   "cell_type": "markdown",
   "metadata": {},
   "source": [
    "Shuffle the annotations. Training : Validation : Evaluation split is 4 : 1 : 1 in this case"
   ]
  },
  {
   "cell_type": "code",
   "execution_count": null,
   "metadata": {},
   "outputs": [],
   "source": [
    "random.shuffle(results)"
   ]
  },
  {
   "cell_type": "code",
   "execution_count": null,
   "metadata": {},
   "outputs": [],
   "source": [
    "evaluation_start =  int(len(results) / 6 * 5)\n",
    "evaluation_end = int(len(results))\n",
    "\n",
    "training_end = int(len(results) / 6 * 4)\n",
    "validation_start = training_end\n",
    "validation_end = evaluation_start"
   ]
  },
  {
   "cell_type": "code",
   "execution_count": null,
   "metadata": {},
   "outputs": [],
   "source": [
    "training_set = results[0:training_end]\n",
    "validation_set = results [validation_start:validation_end]\n",
    "evaluation_set = results[evaluation_start:evaluation_end]"
   ]
  },
  {
   "cell_type": "code",
   "execution_count": null,
   "metadata": {},
   "outputs": [],
   "source": [
    "print(len(training_set), len(validation_set), len(evaluation_set))"
   ]
  },
  {
   "cell_type": "markdown",
   "metadata": {},
   "source": [
    "Save to JSON file for further conversion to spaCy v3.0 format.\n",
    "\n",
    "**NOTE: Write Locations have not been updated to protect datasets as they exist now from being overriden. Modify the locations that the data will be written to before continuing**\n",
    "\n",
    "**IMPORTANT!!!: DO NOT EVER WRITE TO evaluation_for_v3.1+.json - OVERWRITING THE EVALUATION SET WILL LIKELY BRING IN DATASETS MODEL V3.1 HAS SEEN BEFORE, RENDERING THE EVALUATION SET BIASED TOWARDS IT AND USELESS**"
   ]
  },
  {
   "cell_type": "code",
   "execution_count": null,
   "metadata": {},
   "outputs": [],
   "source": [
    "save_data_path = \"../../data/training_datasets/\"\n",
    "\n",
    "def save_data(file, data):\n",
    "    with open (save_data_path + file, \"w\", encoding=\"utf-8\") as f:\n",
    "        json.dump(data, f, indent=4)\n",
    "\n",
    "save_data(\"full_train_data_v3.1.json\", results)\n",
    "save_data(\"training_set_v3.1.json\", training_set)\n",
    "save_data(\"validation_set_v3.1.json\", validation_set)\n",
    "save_data(\"golden_set.json\", evaluation_set)"
   ]
  }
 ],
 "metadata": {
  "interpreter": {
   "hash": "99dd627970ccf7a76dbbe014bbf707e817867099f13e2ab9e56b37d735cfd9d3"
  },
  "kernelspec": {
   "display_name": "Python 3.8.9 ('venv': venv)",
   "language": "python",
   "name": "python3"
  },
  "language_info": {
   "codemirror_mode": {
    "name": "ipython",
    "version": 3
   },
   "file_extension": ".py",
   "mimetype": "text/x-python",
   "name": "python",
   "nbconvert_exporter": "python",
   "pygments_lexer": "ipython3",
   "version": "3.8.9"
  },
  "orig_nbformat": 4
 },
 "nbformat": 4,
 "nbformat_minor": 2
}
