{
 "cells": [
  {
   "cell_type": "markdown",
   "metadata": {},
   "source": [
    "# Trial Notebook\n",
    "\n",
    "This notebook stores all the code that I'm cobbling together or trying out before "
   ]
  },
  {
   "cell_type": "code",
   "execution_count": 115,
   "metadata": {},
   "outputs": [
    {
     "name": "stdout",
     "output_type": "stream",
     "text": [
      "['I', ' ', 'stay', ' ', 'at', ' ', 'CCK', ' ', 'Ave', ' ', '3', '. ', 'My', ' ', 'route', ' ', 'to', ' ', 'URA', ' ', 'involves', ' ', 'taking', ' ', 'bus', ' ', '975', ' ', 'to', ' ', 'CCK', ' ', 'Stn', ', ', 'then', ' ', 'taking', ' ', 'the', ' ', 'NSL', ' ', 'to', ' ', 'JE', '. ', 'At', ' ', 'JE', ' ', 'I', ' ', 'change', ' ', 'to', ' ', 'the', ' ', 'PSR', '-', 'bound', ' ', 'train', '& ', 'taking', ' ', 'the', ' ', 'EWL', ' ', 'to', ' ', 'TGP']\n"
     ]
    },
    {
     "data": {
      "text/plain": [
       "'I stay at Choa Chu Kang Avenue 3. My route to Urban Redevelopment Authority involves taking bus 975 to Choa Chu Kang Station, then taking the North South Line to Jurong East. At Jurong East I change to the Pasir Ris-bound train& taking the East West Line to Tanjong Pagar'"
      ]
     },
     "execution_count": 115,
     "metadata": {},
     "output_type": "execute_result"
    }
   ],
   "source": [
    "import re\n",
    "import csv\n",
    "\n",
    "abbreviation_dictionary = []\n",
    "with open(\"test_dict.csv\", \"r\") as csv_file:\n",
    "    csvtest = csv.reader(csv_file, delimiter=\",\")\n",
    "    for row in csvtest:\n",
    "        abbreviation_dictionary.append(row)\n",
    "\n",
    "def lengthen_abbreviations(text):\n",
    "    split = re.findall(r\"[\\w']+|[.,!?;&] | |-\", text)\n",
    "    print(split)\n",
    "    i = 0\n",
    "    for word in split:\n",
    "        for row in abbreviation_dictionary:\n",
    "            check_column = 0\n",
    "            while check_column < 4:\n",
    "                if word == \"\":\n",
    "                    split[i] = ''\n",
    "                elif word == row[check_column]:\n",
    "                    split[i] = row[3]\n",
    "                check_column += 1\n",
    "            csv_file.close()\n",
    "\n",
    "        i += 1\n",
    "    cleaned_text = ''.join(split)\n",
    "    return cleaned_text\n",
    "\n",
    "lengthen_abbreviations(\"I stay at CCK Ave 3. My route to URA involves taking bus 975 to CCK Stn, then taking the NSL to JE. At JE I change to the PSR-bound train& taking the EWL to TGP.\")"
   ]
  }
 ],
 "metadata": {
  "interpreter": {
   "hash": "26dff31311a0bce229de49839ffd0c16c131302b688e22273eb8197e58305d33"
  },
  "kernelspec": {
   "display_name": "Python 3.8.12 ('spacyenv')",
   "language": "python",
   "name": "python3"
  },
  "language_info": {
   "codemirror_mode": {
    "name": "ipython",
    "version": 3
   },
   "file_extension": ".py",
   "mimetype": "text/x-python",
   "name": "python",
   "nbconvert_exporter": "python",
   "pygments_lexer": "ipython3",
   "version": "3.8.12"
  },
  "orig_nbformat": 4
 },
 "nbformat": 4,
 "nbformat_minor": 2
}
