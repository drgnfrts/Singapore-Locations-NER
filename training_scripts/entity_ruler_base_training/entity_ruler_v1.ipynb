{
 "cells": [
  {
   "cell_type": "markdown",
   "metadata": {},
   "source": [
    "# Entity Ruler for Location Data\n",
    "\n",
    "This notebook creates the \"Dictionary of Locations\" Entity Ruler pipe. Pulling from the [combined_locations.json](../../data/extracted_locations/combined_locations.json) file, the script tags \"LOC\" to each location entry.\n",
    "\n",
    "The resulting \"Dictionary of Locations\" Entity Ruler pipe is later added to a pipeline for either direct model use, or use in creating annotations in an automated manner.\n",
    "\n",
    "Import spaCy and it's EntityRuler pipeline to facilitate tagging, and JSON to read data files."
   ]
  },
  {
   "cell_type": "code",
   "execution_count": 1,
   "metadata": {},
   "outputs": [],
   "source": [
    "# Import SpaCy to enable EntityRuler creation, and JSON to retrieve data files\n",
    "\n",
    "import spacy\n",
    "from spacy.lang.en import English\n",
    "from spacy.pipeline import EntityRuler\n",
    "import json\n",
    "\n",
    "# Function to read and write data from JSON files, if needed.\n",
    "def load_data(file):\n",
    "    with open(file, \"r\", encoding=\"utf-8\") as f:\n",
    "        data = json.load(f)\n",
    "    return (data)\n",
    "\n",
    "# def save_data(file, data):\n",
    "#     with open (file, \"w\", encoding=\"utf-8\") as f:\n",
    "#         json.dump(data, f, indent=4)"
   ]
  },
  {
   "cell_type": "code",
   "execution_count": 2,
   "metadata": {},
   "outputs": [],
   "source": [
    "#Load the data\n",
    "data = load_data('..\\..\\data\\extracted_locations\\combined_locations.json')"
   ]
  },
  {
   "cell_type": "markdown",
   "metadata": {},
   "source": [
    "Each entry in the Entity Ruler pipe follows the format below:\n",
    "```\n",
    "{\"label\": type, \"pattern\": example}\n",
    "```\n",
    "The function below assigns \"LOC\" as the label to a location entry \"pattern\"."
   ]
  },
  {
   "cell_type": "code",
   "execution_count": 7,
   "metadata": {},
   "outputs": [],
   "source": [
    "# Function to create the training data in the {\"label\": type, \"pattern\": example} format that SpaCy uses\n",
    "def create_entityruler_items(data_list, tag_name):\n",
    "    tagged_locations_list = []\n",
    "    for location in data_list:\n",
    "        pattern = {\n",
    "            \"label\": tag_name,\n",
    "            \"pattern\": location\n",
    "        }\n",
    "        tagged_locations_list.append(pattern)\n",
    "    return tagged_locations_list"
   ]
  },
  {
   "cell_type": "code",
   "execution_count": 8,
   "metadata": {},
   "outputs": [],
   "source": [
    "# Imput the data and label type and call the function to create the tagged list\n",
    "patterns = create_entityruler_items(data, \"LOC\")"
   ]
  },
  {
   "cell_type": "markdown",
   "metadata": {},
   "source": [
    "The \"Dictionary of Locations\" Entity Ruler can now be added to a model of choice.\n",
    "\n",
    "Below, it is added to a Standard Medium English model to create the **loc_er** model, which will later be used to create annotations with a script."
   ]
  },
  {
   "cell_type": "code",
   "execution_count": 11,
   "metadata": {},
   "outputs": [],
   "source": [
    "# Push the tagged list through spaCy's Medium English model. Any model here is fine, really, because we're giving primacy (\"partially overriding\") the model's own NER with the tagged list.\n",
    "nlp = spacy.load(\"en_core_web_md\")\n",
    "\n",
    "# An EntityRuler pipe is created and placed before the original model's NER pipe to give primacy to the EntityRuler.\n",
    "ruler = nlp.add_pipe(\"entity_ruler\", before = \"ner\")\n",
    "\n",
    "# The data from the tagged list is then inputted into the EntityRuler\n",
    "ruler.add_patterns(patterns)"
   ]
  },
  {
   "cell_type": "code",
   "execution_count": null,
   "metadata": {},
   "outputs": [],
   "source": [
    "nlp.to_disk(\"..\\..\\models\\loc_er\")"
   ]
  }
 ],
 "metadata": {
  "interpreter": {
   "hash": "26dff31311a0bce229de49839ffd0c16c131302b688e22273eb8197e58305d33"
  },
  "kernelspec": {
   "display_name": "Python 3.8.12 ('spacyenv')",
   "language": "python",
   "name": "python3"
  },
  "language_info": {
   "codemirror_mode": {
    "name": "ipython",
    "version": 3
   },
   "file_extension": ".py",
   "mimetype": "text/x-python",
   "name": "python",
   "nbconvert_exporter": "python",
   "pygments_lexer": "ipython3",
   "version": "3.8.9"
  },
  "orig_nbformat": 4
 },
 "nbformat": 4,
 "nbformat_minor": 2
}
