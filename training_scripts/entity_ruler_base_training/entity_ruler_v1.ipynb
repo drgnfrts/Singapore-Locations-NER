{
 "cells": [
  {
   "cell_type": "markdown",
   "metadata": {},
   "source": [
    "# Entity Ruler for Location Data\n",
    "This Entity Ruler tags \"LOC\" to every single location name in \"data/extracted_locations/combined_list\". This will help with the annotation process for the varied articles later on in the process.\n",
    "\n",
    "Import spaCy and it's EntityRuler pipeline to facilitate tagging, and JSON to read data files."
   ]
  },
  {
   "cell_type": "code",
   "execution_count": 1,
   "metadata": {},
   "outputs": [],
   "source": [
    "# Import SpaCy to enable EntityRuler creation, and JSON to retrieve data files\n",
    "\n",
    "import spacy\n",
    "from spacy.lang.en import English\n",
    "from spacy.pipeline import EntityRuler\n",
    "import json\n",
    "\n",
    "# Function to read and write data from JSON files, if needed.\n",
    "def load_data(file):\n",
    "    with open(file, \"r\", encoding=\"utf-8\") as f:\n",
    "        data = json.load(f)\n",
    "    return (data)\n",
    "\n",
    "def save_data(file, data):\n",
    "    with open (file, \"w\", encoding=\"utf-8\") as f:\n",
    "        json.dump(data, f, indent=4)"
   ]
  },
  {
   "cell_type": "code",
   "execution_count": 2,
   "metadata": {},
   "outputs": [],
   "source": [
    "#Load the data\n",
    "data = load_data('..\\..\\data\\extracted_locations\\combined_locations.json')"
   ]
  },
  {
   "cell_type": "markdown",
   "metadata": {},
   "source": [
    "Function create_training_data takes in 2 parameters - the list of data and the label name. This allows for future labels to be created without hassle if required. For now all locations will take the LOC label."
   ]
  },
  {
   "cell_type": "code",
   "execution_count": 9,
   "metadata": {},
   "outputs": [],
   "source": [
    "# Function to create the training data in the {\"label\": type, \"pattern\": example} format that SpaCy uses\n",
    "def create_training_data(data_list, type):\n",
    "    data = data_list\n",
    "    patterns = []\n",
    "    for locations in data:\n",
    "        pattern = {\n",
    "            \"label\": type,\n",
    "            \"pattern\": locations\n",
    "        }\n",
    "        patterns.append(pattern)\n",
    "    return(patterns)"
   ]
  },
  {
   "cell_type": "code",
   "execution_count": 10,
   "metadata": {},
   "outputs": [],
   "source": [
    "# Imput the data and label type and call the function to create the tagged list\n",
    "patterns = create_training_data(data, \"LOC\")"
   ]
  },
  {
   "cell_type": "markdown",
   "metadata": {},
   "source": [
    "The patterns of location names and their labels can now be loaded into spacy's add pipe function. As this is for NER, the EntityRuler pipe is created and given primacy over the standard model's NER functions."
   ]
  },
  {
   "cell_type": "code",
   "execution_count": 11,
   "metadata": {},
   "outputs": [],
   "source": [
    "# Push the tagged list through spaCy's Medium English model. Any model here is fine, really, because we're giving primacy (\"partially overriding\") the model's own NER with the tagged list.\n",
    "nlp = spacy.load(\"en_core_web_md\")\n",
    "\n",
    "# An EntityRuler pipe is created and placed before the original model's NER pipe to give primacy to the EntityRuler.\n",
    "ruler = nlp.add_pipe(\"entity_ruler\", before = \"ner\")\n",
    "\n",
    "# The data from the tagged list is then inputted into the EntityRuler\n",
    "ruler.add_patterns(patterns)"
   ]
  },
  {
   "cell_type": "code",
   "execution_count": null,
   "metadata": {},
   "outputs": [],
   "source": [
    "nlp.to_disk(\"..\\..\\models\\loc_er\")"
   ]
  }
 ],
 "metadata": {
  "interpreter": {
   "hash": "26dff31311a0bce229de49839ffd0c16c131302b688e22273eb8197e58305d33"
  },
  "kernelspec": {
   "display_name": "Python 3.8.12 ('spacyenv')",
   "language": "python",
   "name": "python3"
  },
  "language_info": {
   "codemirror_mode": {
    "name": "ipython",
    "version": 3
   },
   "file_extension": ".py",
   "mimetype": "text/x-python",
   "name": "python",
   "nbconvert_exporter": "python",
   "pygments_lexer": "ipython3",
   "version": "3.8.12"
  },
  "orig_nbformat": 4
 },
 "nbformat": 4,
 "nbformat_minor": 2
}
