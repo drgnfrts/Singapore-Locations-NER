{
 "cells": [
  {
   "cell_type": "markdown",
   "metadata": {},
   "source": [
    "This piece is here because some idiot input estate name as building name for some buildings, which proceeded to screw with my code. I couldn't figure out a way to generate an exception for it in the main filter ipynb, so I decided to clean the data. At least I know how to modify and overwrite JSON files now."
   ]
  },
  {
   "cell_type": "code",
   "execution_count": 1,
   "metadata": {},
   "outputs": [],
   "source": [
    "import json\n",
    "import os\n",
    "\n",
    "with open('../data/singapore-postal-codes/buildings.json', 'r') as read_file:\n",
    "    data = json.load(read_file)"
   ]
  },
  {
   "cell_type": "code",
   "execution_count": 2,
   "metadata": {},
   "outputs": [],
   "source": [
    "for i in range(len(data)):\n",
    "    if data[i][\"SEARCHVAL\"] == \"SPRINGWOOD\":\n",
    "        data[i][\"SEARCHVAL\"] = data[i][\"ADDRESS\"]"
   ]
  },
  {
   "cell_type": "code",
   "execution_count": 3,
   "metadata": {},
   "outputs": [],
   "source": [
    "os.remove('../data/singapore-postal-codes/buildings.json')\n",
    "with open('../data/singapore-postal-codes/buildings.json', 'w') as f:\n",
    "    json.dump(data, f, indent=4)"
   ]
  }
 ],
 "metadata": {
  "interpreter": {
   "hash": "26dff31311a0bce229de49839ffd0c16c131302b688e22273eb8197e58305d33"
  },
  "kernelspec": {
   "display_name": "Python 3.8.12 ('spacyenv')",
   "language": "python",
   "name": "python3"
  },
  "language_info": {
   "codemirror_mode": {
    "name": "ipython",
    "version": 3
   },
   "file_extension": ".py",
   "mimetype": "text/x-python",
   "name": "python",
   "nbconvert_exporter": "python",
   "pygments_lexer": "ipython3",
   "version": "3.8.12"
  },
  "orig_nbformat": 4
 },
 "nbformat": 4,
 "nbformat_minor": 2
}
